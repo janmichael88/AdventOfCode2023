{
 "cells": [
  {
   "cell_type": "code",
   "execution_count": 31,
   "id": "8a320402",
   "metadata": {},
   "outputs": [],
   "source": [
    "import numpy as np\n",
    "file_path = \"input.txt\"  # Replace with the path to your Python file\n",
    "\n",
    "# Read the contents of the file\n",
    "with open(file_path, \"r\") as file:\n",
    "    file_contents = file.read()\n",
    "\n",
    "# Split the contents based on \"\\n\\n\"\n",
    "sections = file_contents.split(\"\\n\\n\")\n",
    "stream = [line.splitlines() for line in sections]"
   ]
  },
  {
   "cell_type": "code",
   "execution_count": 18,
   "id": "f36583b0",
   "metadata": {},
   "outputs": [],
   "source": [
    "#test np fucntions\n",
    "test_pattern = sections[0].splitlines()\n",
    "data =  np.array([list(l) for l in test_pattern])\n",
    "data = data.T"
   ]
  },
  {
   "cell_type": "code",
   "execution_count": 21,
   "id": "5752d355",
   "metadata": {},
   "outputs": [
    {
     "data": {
      "text/plain": [
       "['#.##..##.',\n",
       " '..#.##.#.',\n",
       " '##......#',\n",
       " '##......#',\n",
       " '..#.##.#.',\n",
       " '..##..##.',\n",
       " '#.#.##.#.']"
      ]
     },
     "execution_count": 21,
     "metadata": {},
     "output_type": "execute_result"
    }
   ],
   "source": [
    "test_pattern"
   ]
  },
  {
   "cell_type": "code",
   "execution_count": 20,
   "id": "f71bbe0a",
   "metadata": {},
   "outputs": [
    {
     "data": {
      "text/plain": [
       "array([['#', '.', '#', '#', '.', '.', '#'],\n",
       "       ['.', '.', '#', '#', '.', '.', '.'],\n",
       "       ['#', '#', '.', '.', '#', '#', '#'],\n",
       "       ['#', '.', '.', '.', '.', '#', '.'],\n",
       "       ['.', '#', '.', '.', '#', '.', '#'],\n",
       "       ['.', '#', '.', '.', '#', '.', '#'],\n",
       "       ['#', '.', '.', '.', '.', '#', '.'],\n",
       "       ['#', '#', '.', '.', '#', '#', '#'],\n",
       "       ['.', '.', '#', '#', '.', '.', '.']], dtype='<U1')"
      ]
     },
     "execution_count": 20,
     "metadata": {},
     "output_type": "execute_result"
    }
   ],
   "source": [
    "data"
   ]
  },
  {
   "cell_type": "code",
   "execution_count": 27,
   "id": "50779d0f",
   "metadata": {},
   "outputs": [
    {
     "name": "stdout",
     "output_type": "stream",
     "text": [
      "[['.' '.' '#' '#' '.' '.' '.']]\n",
      "2\n",
      "[['#' '.' '.' '.' '.' '#' '.']\n",
      " ['#' '#' '.' '.' '#' '#' '#']]\n",
      "3\n",
      "[['.' '#' '.' '.' '#' '.' '#']\n",
      " ['.' '#' '.' '.' '#' '.' '#']\n",
      " ['#' '.' '.' '.' '.' '#' '.']]\n",
      "4\n",
      "[['#' '#' '.' '.' '#' '#' '#']\n",
      " ['#' '.' '.' '.' '.' '#' '.']\n",
      " ['.' '#' '.' '.' '#' '.' '#']\n",
      " ['.' '#' '.' '.' '#' '.' '#']]\n",
      "5\n",
      "[['.' '.' '#' '#' '.' '.' '.']\n",
      " ['#' '#' '.' '.' '#' '#' '#']\n",
      " ['#' '.' '.' '.' '.' '#' '.']\n",
      " ['.' '#' '.' '.' '#' '.' '#']]\n"
     ]
    }
   ],
   "source": [
    "#we can subset data\n",
    "#test symmetry\n",
    "i = 1\n",
    "margin = 0\n",
    "while i < len(data):\n",
    "    #paritition the arrays\n",
    "    lhs = data[:i]\n",
    "    rhs = data[i:]\n",
    "    #match sizes\n",
    "    if len(lhs) > len(rhs):\n",
    "        #make left smaller\n",
    "        lhs = lhs[len(lhs) - len(rhs) :]\n",
    "    #make right smaller\n",
    "    elif len(rhs) > len(lhs):\n",
    "        rhs = rhs[: len(lhs)]\n",
    "        #reflect right\n",
    "    rhs = np.flip(rhs, axis=0)\n",
    "    #theyu should be matching\n",
    "    if np.count_nonzero(lhs != rhs) == margin:\n",
    "        break\n",
    "    i += 1\n",
    "    print(i)"
   ]
  },
  {
   "cell_type": "code",
   "execution_count": 22,
   "id": "abfdd835",
   "metadata": {},
   "outputs": [],
   "source": [
    "#test for symmtery \n",
    "def symmetry(arr, margin):\n",
    "    \"\"\"Find line of symmetry in 2D array\"\"\"\n",
    "    i = 1\n",
    "    while i < len(arr):\n",
    "        lhs = arr[:i]\n",
    "        rhs = arr[i:]\n",
    "        if len(lhs) > len(rhs):\n",
    "            lhs = lhs[len(lhs) - len(rhs) :]\n",
    "        elif len(rhs) > len(lhs):\n",
    "            rhs = rhs[: len(lhs)]\n",
    "        rhs = np.flip(rhs, axis=0)\n",
    "        if np.count_nonzero(lhs != rhs) == margin:\n",
    "            return i\n",
    "        i += 1\n",
    "    return False"
   ]
  },
  {
   "cell_type": "code",
   "execution_count": 24,
   "id": "bd1e68a0",
   "metadata": {},
   "outputs": [
    {
     "data": {
      "text/plain": [
       "False"
      ]
     },
     "execution_count": 24,
     "metadata": {},
     "output_type": "execute_result"
    }
   ],
   "source": [
    "symmetry(data.T,0)"
   ]
  },
  {
   "cell_type": "code",
   "execution_count": 25,
   "id": "d1fbf3ba",
   "metadata": {},
   "outputs": [],
   "source": [
    "#idea is that we test all reflection lines, \n",
    "#we can transpose matrix, to get vertical\n",
    "#then we reflect, and there should be no differences in the array for part 1\n",
    "#for part 2, there should only be a difference of 1\n",
    "def iterate(margin):\n",
    "    \"\"\"Iterate across all puzzles and get symmetry score\"\"\"\n",
    "    r = 0\n",
    "    for dis in stream:\n",
    "        data = np.array([list(l) for l in dis])\n",
    "        transpose = data.T\n",
    "\n",
    "        val = symmetry(transpose, margin)\n",
    "        if not val:\n",
    "            val = 100 * symmetry(data, margin)\n",
    "        r += val\n",
    "    return r"
   ]
  },
  {
   "cell_type": "code",
   "execution_count": 33,
   "id": "65ee2780",
   "metadata": {},
   "outputs": [
    {
     "data": {
      "text/plain": [
       "33183"
      ]
     },
     "execution_count": 33,
     "metadata": {},
     "output_type": "execute_result"
    }
   ],
   "source": [
    "iterate(1)"
   ]
  },
  {
   "cell_type": "code",
   "execution_count": null,
   "id": "ba89e5bb",
   "metadata": {},
   "outputs": [],
   "source": []
  }
 ],
 "metadata": {
  "kernelspec": {
   "display_name": "Python 3",
   "language": "python",
   "name": "python3"
  },
  "language_info": {
   "codemirror_mode": {
    "name": "ipython",
    "version": 3
   },
   "file_extension": ".py",
   "mimetype": "text/x-python",
   "name": "python",
   "nbconvert_exporter": "python",
   "pygments_lexer": "ipython3",
   "version": "3.9.4"
  }
 },
 "nbformat": 4,
 "nbformat_minor": 5
}
